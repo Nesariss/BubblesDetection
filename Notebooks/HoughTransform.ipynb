{
 "cells": [
  {
   "cell_type": "code",
   "execution_count": null,
   "metadata": {},
   "outputs": [],
   "source": [
    "import json\n",
    "import cv2\n",
    "import numpy as np\n",
    "import os\n",
    "yourpath=\"C:/Users/Kompikl/Downloads/magisterka/magisterka/cessa\"\n",
    "coco_dict = {}\n",
    "coco_dict['images'] = []\n",
    "coco_dict['annotations'] = []\n",
    "coco_dict['categories'] = [{'id': 1, 'name': 'bubbles'}]\n",
    "\n",
    "image_id = 0\n",
    "annotation_id = 0\n",
    "\n",
    "for root, dirs, files in os.walk(yourpath, topdown=False):\n",
    "    for name in files:\n",
    "        if os.path.splitext(os.path.join(root, name))[1].lower() == \".jpg\":\n",
    "    # load image\n",
    "            img = cv2.imread(os.path.join(root, name), 0)\n",
    "            img = cv2.medianBlur(img,25)\n",
    "            img = cv2.subtract(img, 30)\n",
    "            circles = cv2.HoughCircles(img, cv2.HOUGH_GRADIENT,\n",
    "                    1.3, 40, param1=130, param2=50, minRadius=50, maxRadius=0)\n",
    "            if circles is not None:\n",
    "                circles = np.uint16(np.around(circles))\n",
    "\n",
    "                    # add image to COCO dictionary\n",
    "                image_info = {'id': image_id, 'license': 1, 'file_name': name, 'height': img.shape[0], 'width': img.shape[1], 'date_captured': '2023-05-04T07:18:25+00:00'}\n",
    "                coco_dict['images'].append(image_info)\n",
    "\n",
    "                # add annotations to COCO dictionary\n",
    "                for c in circles[0, :]:\n",
    "                        x, y, radius = c[0], c[1], c[2]\n",
    "                        start_point = (int(x - radius), int(y - radius))\n",
    "                        end_point = (int(x + radius), int(y + radius))\n",
    "                        height = end_point[1] - start_point[1]\n",
    "                        width = end_point[0] - start_point[0]\n",
    "                        area = height * width\n",
    "\n",
    "                        annotation_info = {'id': annotation_id, 'image_id': image_id, 'category_id': 1, 'bbox': [start_point[0], start_point[1], width, height], 'area': area, 'segmentation': [], 'iscrowd': 0}\n",
    "                        coco_dict['annotations'].append(annotation_info)\n",
    "                        annotation_id += 1\n",
    "\n",
    "            image_id += 1\n",
    "            with open('coco.json', 'w') as f:\n",
    "                json.dump(coco_dict, f)"
   ]
  }
 ],
 "metadata": {
  "kernelspec": {
   "display_name": "Python 3",
   "language": "python",
   "name": "python3"
  },
  "language_info": {
   "codemirror_mode": {
    "name": "ipython",
    "version": 3
   },
   "file_extension": ".py",
   "mimetype": "text/x-python",
   "name": "python",
   "nbconvert_exporter": "python",
   "pygments_lexer": "ipython3",
   "version": "3.8.5"
  }
 },
 "nbformat": 4,
 "nbformat_minor": 4
}
