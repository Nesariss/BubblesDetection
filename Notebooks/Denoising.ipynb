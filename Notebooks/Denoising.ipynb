{
 "cells": [
  {
   "cell_type": "code",
   "execution_count": 1,
   "metadata": {
    "id": "_WHi_je3MQ1X"
   },
   "outputs": [],
   "source": [
    "import cv2\n",
    "import numpy as np\n",
    "from matplotlib import pyplot as plt\n",
    "from matplotlib import image as mpimg\n",
    "#from google.colab.patches import cv2_imshow\n",
    "from PIL import Image\n",
    "import os"
   ]
  },
  {
   "cell_type": "code",
   "execution_count": null,
   "metadata": {
    "colab": {
     "base_uri": "https://localhost:8080/"
    },
    "id": "81us0YjXrv_O",
    "outputId": "9601bc7a-7ba5-42be-be57-b8631bd3d535"
   },
   "outputs": [
    {
     "name": "stdout",
     "output_type": "stream",
     "text": [
      "Mounted at /content/gdrive\n"
     ]
    }
   ],
   "source": [
    "from google.colab import drive\n",
    "\n",
    "drive.mount('/content/gdrive')"
   ]
  },
  {
   "cell_type": "code",
   "execution_count": 2,
   "metadata": {
    "id": "_-DCKfGmzFGV"
   },
   "outputs": [],
   "source": [
    "def mean_pixels(image, index, n):\n",
    "    start_row, start_col = index[0] - n, index[1] - n\n",
    "    end_row, end_col = index[0] + n + 1, index[1] + n + 1\n",
    "    row_indices = np.clip(range(start_row, end_row), 0, image.shape[0] - 1)\n",
    "    col_indices = np.clip(range(start_col, end_col), 0, image.shape[1] - 1)\n",
    "    masked_image = image[np.ix_(row_indices, col_indices)]\n",
    "    mean_values = np.mean(np.mean(masked_image, axis=0), axis=0)\n",
    "\n",
    "    n_val=int(n/10)\n",
    "    start_row1, start_col1 = index[0] - n_val, index[1] - n_val\n",
    "    end_row1, end_col1 = index[0] + n_val + 1, index[1] + n_val + 1\n",
    "    row_indices1 = np.clip(range(start_row1, end_row1), 0, image.shape[0] - 1)\n",
    "    col_indices1 = np.clip(range(start_col1, end_col1), 0, image.shape[1] - 1)\n",
    "    for i in range(len(row_indices1)):\n",
    "      image[row_indices1[i],col_indices1[i]]=mean_values\n"
   ]
  },
  {
   "cell_type": "code",
   "execution_count": null,
   "metadata": {},
   "outputs": [],
   "source": [
    "yourpath=\"C:/Users/Kompikl/Downloads/CESSA/CESSA\"\n",
    "path_to_save='C:/Users/Kompikl/Downloads/mgr'\n",
    "for root, dirs, files in os.walk(yourpath, topdown=False):\n",
    "    for name in files:\n",
    "        if os.path.splitext(os.path.join(root, name))[1].lower() == \".jpg\":\n",
    "          img = cv2.imread(os.path.join(root, name))\n",
    "\n",
    "          rows, cols, ch = img.shape\n",
    "          # Mask dimensions to mean pixels\n",
    "          neigh_size=int(min(rows,cols)/175.0)\n",
    "\n",
    "          # Convert to grayscale\n",
    "          gray = cv2.cvtColor(img, cv2.COLOR_BGR2GRAY)\n",
    "            \n",
    "          # Threshold the image to binarize it\n",
    "          \n",
    "          threshold_value, binary_img = cv2.threshold(gray, 0, 255, cv2.THRESH_BINARY + cv2.THRESH_OTSU)\n",
    "          #threshold_value, binary_img = cv2.threshold(gray, tr, 255, cv2.THRESH_BINARY) \n",
    "\n",
    "          nlabels, labels, stats, centroids = cv2.connectedComponentsWithStats(binary_img, None, None, None, 8, cv2.CV_32S)\n",
    "\n",
    "          \n",
    "          #get CC_STAT_AREA component as stats[label, COLUMN] \n",
    "          areas = stats[1:,cv2.CC_STAT_AREA]\n",
    "\n",
    "          result = np.zeros((labels.shape), np.uint8)\n",
    "\n",
    "          for i in range(0, nlabels - 1):\n",
    "              if areas[i] >= 140:   #keep\n",
    "                  result[labels == i + 1] = 255\n",
    "\n",
    "          result = cv2.cvtColor(result, cv2.COLOR_GRAY2BGR)\n",
    "\n",
    "          # Image reconstruction\n",
    "\n",
    "          #Replace non black pixels from binary image as original image pixels\n",
    "          cond = img> 128 #200-255\n",
    "          pixels= np.where(cond,result,img)\n",
    "            \n",
    "          cond = result==255 \n",
    "          pixels=np.where(cond,img,pixels )\n",
    "            \n",
    "          #Mean the image regions, where black pixels was\n",
    "          indices=np.where(pixels==0)\n",
    "          for i in range(len(indices[0])):\n",
    "            mean_pixels(pixels, (indices[0][i],indices[1][i]),neigh_size)\n",
    "\n",
    "\n",
    "          noiseless_image_colored = cv2.fastNlMeansDenoisingColored(pixels,None,15,15,7,21) \n",
    "          cv2.imwrite(os.path.join(path_to_save , name),noiseless_image_colored)\n",
    "\n",
    "          "
   ]
  },
  {
   "cell_type": "code",
   "execution_count": null,
   "metadata": {
    "id": "gdmlSWIENfLT"
   },
   "outputs": [],
   "source": []
  }
 ],
 "metadata": {
  "accelerator": "GPU",
  "colab": {
   "provenance": []
  },
  "gpuClass": "standard",
  "kernelspec": {
   "display_name": "Python 3",
   "language": "python",
   "name": "python3"
  },
  "language_info": {
   "codemirror_mode": {
    "name": "ipython",
    "version": 3
   },
   "file_extension": ".py",
   "mimetype": "text/x-python",
   "name": "python",
   "nbconvert_exporter": "python",
   "pygments_lexer": "ipython3",
   "version": "3.8.5"
  }
 },
 "nbformat": 4,
 "nbformat_minor": 1
}
